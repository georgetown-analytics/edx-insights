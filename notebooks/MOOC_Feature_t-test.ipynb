{
 "cells": [
  {
   "cell_type": "code",
   "execution_count": 2,
   "metadata": {
    "collapsed": false
   },
   "outputs": [],
   "source": [
    "import pandas as pd\n",
    "import numpy as np\n",
    "import matplotlib.pyplot as plt\n",
    "import sqlite3 as sql\n",
    "import scipy.stats as stats\n",
    "\n",
    "df = pd.read_csv(\"data_rate_data_avg_watched.csv\")"
   ]
  },
  {
   "cell_type": "code",
   "execution_count": 3,
   "metadata": {
    "collapsed": false,
    "scrolled": true
   },
   "outputs": [
    {
     "data": {
      "text/html": [
       "<div>\n",
       "<table border=\"1\" class=\"dataframe\">\n",
       "  <thead>\n",
       "    <tr style=\"text-align: right;\">\n",
       "      <th></th>\n",
       "      <th>course</th>\n",
       "      <th>student</th>\n",
       "      <th>course_complete</th>\n",
       "      <th>clickrate</th>\n",
       "      <th>avgpctvideowatched</th>\n",
       "      <th>rw</th>\n",
       "      <th>ff</th>\n",
       "    </tr>\n",
       "  </thead>\n",
       "  <tbody>\n",
       "    <tr>\n",
       "      <th>0</th>\n",
       "      <td>genomics</td>\n",
       "      <td>0000d488dca916ef0d5efdac10e052b2</td>\n",
       "      <td>0</td>\n",
       "      <td>0.033203</td>\n",
       "      <td>0.054831</td>\n",
       "      <td>0.000000</td>\n",
       "      <td>0.000000</td>\n",
       "    </tr>\n",
       "    <tr>\n",
       "      <th>1</th>\n",
       "      <td>genomics</td>\n",
       "      <td>00057f037dc72ff77d5ca29de69d0671</td>\n",
       "      <td>0</td>\n",
       "      <td>0.019955</td>\n",
       "      <td>0.106250</td>\n",
       "      <td>0.000000</td>\n",
       "      <td>2.171084</td>\n",
       "    </tr>\n",
       "    <tr>\n",
       "      <th>2</th>\n",
       "      <td>genomics</td>\n",
       "      <td>0015b68bd020c6caf6ab4cc0159ac2f0</td>\n",
       "      <td>1</td>\n",
       "      <td>0.015138</td>\n",
       "      <td>0.240743</td>\n",
       "      <td>0.000000</td>\n",
       "      <td>0.012065</td>\n",
       "    </tr>\n",
       "    <tr>\n",
       "      <th>3</th>\n",
       "      <td>genomics</td>\n",
       "      <td>00296e85f055b03c0882626c80a24306</td>\n",
       "      <td>0</td>\n",
       "      <td>0.234637</td>\n",
       "      <td>0.000000</td>\n",
       "      <td>0.000000</td>\n",
       "      <td>0.000000</td>\n",
       "    </tr>\n",
       "    <tr>\n",
       "      <th>4</th>\n",
       "      <td>genomics</td>\n",
       "      <td>0044739ebeb7116d34cc8796ea784c5a</td>\n",
       "      <td>0</td>\n",
       "      <td>0.010198</td>\n",
       "      <td>0.126693</td>\n",
       "      <td>1.822567</td>\n",
       "      <td>0.000000</td>\n",
       "    </tr>\n",
       "  </tbody>\n",
       "</table>\n",
       "</div>"
      ],
      "text/plain": [
       "     course                           student  course_complete  clickrate  \\\n",
       "0  genomics  0000d488dca916ef0d5efdac10e052b2                0   0.033203   \n",
       "1  genomics  00057f037dc72ff77d5ca29de69d0671                0   0.019955   \n",
       "2  genomics  0015b68bd020c6caf6ab4cc0159ac2f0                1   0.015138   \n",
       "3  genomics  00296e85f055b03c0882626c80a24306                0   0.234637   \n",
       "4  genomics  0044739ebeb7116d34cc8796ea784c5a                0   0.010198   \n",
       "\n",
       "   avgpctvideowatched        rw        ff  \n",
       "0            0.054831  0.000000  0.000000  \n",
       "1            0.106250  0.000000  2.171084  \n",
       "2            0.240743  0.000000  0.012065  \n",
       "3            0.000000  0.000000  0.000000  \n",
       "4            0.126693  1.822567  0.000000  "
      ]
     },
     "execution_count": 3,
     "metadata": {},
     "output_type": "execute_result"
    }
   ],
   "source": [
    "df.head()"
   ]
  },
  {
   "cell_type": "code",
   "execution_count": 4,
   "metadata": {
    "collapsed": false
   },
   "outputs": [
    {
     "data": {
      "text/html": [
       "<div>\n",
       "<table border=\"1\" class=\"dataframe\">\n",
       "  <thead>\n",
       "    <tr style=\"text-align: right;\">\n",
       "      <th></th>\n",
       "      <th>course_complete</th>\n",
       "      <th>clickrate</th>\n",
       "      <th>avgpctvideowatched</th>\n",
       "      <th>rw</th>\n",
       "      <th>ff</th>\n",
       "    </tr>\n",
       "  </thead>\n",
       "  <tbody>\n",
       "    <tr>\n",
       "      <th>count</th>\n",
       "      <td>19668.000000</td>\n",
       "      <td>19668.000000</td>\n",
       "      <td>19668.000000</td>\n",
       "      <td>19668.000000</td>\n",
       "      <td>19668.000000</td>\n",
       "    </tr>\n",
       "    <tr>\n",
       "      <th>mean</th>\n",
       "      <td>0.121619</td>\n",
       "      <td>0.180099</td>\n",
       "      <td>0.142266</td>\n",
       "      <td>1.342241</td>\n",
       "      <td>0.607770</td>\n",
       "    </tr>\n",
       "    <tr>\n",
       "      <th>std</th>\n",
       "      <td>0.326853</td>\n",
       "      <td>0.232294</td>\n",
       "      <td>0.133769</td>\n",
       "      <td>40.886485</td>\n",
       "      <td>3.557908</td>\n",
       "    </tr>\n",
       "    <tr>\n",
       "      <th>min</th>\n",
       "      <td>0.000000</td>\n",
       "      <td>0.002157</td>\n",
       "      <td>-0.000033</td>\n",
       "      <td>0.000000</td>\n",
       "      <td>0.000000</td>\n",
       "    </tr>\n",
       "    <tr>\n",
       "      <th>25%</th>\n",
       "      <td>0.000000</td>\n",
       "      <td>0.028020</td>\n",
       "      <td>0.000000</td>\n",
       "      <td>0.000000</td>\n",
       "      <td>0.000000</td>\n",
       "    </tr>\n",
       "    <tr>\n",
       "      <th>50%</th>\n",
       "      <td>0.000000</td>\n",
       "      <td>0.085932</td>\n",
       "      <td>0.122945</td>\n",
       "      <td>0.000000</td>\n",
       "      <td>0.000000</td>\n",
       "    </tr>\n",
       "    <tr>\n",
       "      <th>75%</th>\n",
       "      <td>0.000000</td>\n",
       "      <td>0.213239</td>\n",
       "      <td>0.248148</td>\n",
       "      <td>0.000000</td>\n",
       "      <td>0.000000</td>\n",
       "    </tr>\n",
       "    <tr>\n",
       "      <th>max</th>\n",
       "      <td>1.000000</td>\n",
       "      <td>1.200000</td>\n",
       "      <td>0.861459</td>\n",
       "      <td>5525.100419</td>\n",
       "      <td>156.368678</td>\n",
       "    </tr>\n",
       "  </tbody>\n",
       "</table>\n",
       "</div>"
      ],
      "text/plain": [
       "       course_complete     clickrate  avgpctvideowatched            rw  \\\n",
       "count     19668.000000  19668.000000        19668.000000  19668.000000   \n",
       "mean          0.121619      0.180099            0.142266      1.342241   \n",
       "std           0.326853      0.232294            0.133769     40.886485   \n",
       "min           0.000000      0.002157           -0.000033      0.000000   \n",
       "25%           0.000000      0.028020            0.000000      0.000000   \n",
       "50%           0.000000      0.085932            0.122945      0.000000   \n",
       "75%           0.000000      0.213239            0.248148      0.000000   \n",
       "max           1.000000      1.200000            0.861459   5525.100419   \n",
       "\n",
       "                 ff  \n",
       "count  19668.000000  \n",
       "mean       0.607770  \n",
       "std        3.557908  \n",
       "min        0.000000  \n",
       "25%        0.000000  \n",
       "50%        0.000000  \n",
       "75%        0.000000  \n",
       "max      156.368678  "
      ]
     },
     "execution_count": 4,
     "metadata": {},
     "output_type": "execute_result"
    }
   ],
   "source": [
    "df.describe()"
   ]
  },
  {
   "cell_type": "code",
   "execution_count": 5,
   "metadata": {
    "collapsed": false
   },
   "outputs": [],
   "source": [
    "Completed = df[df['course_complete'] ==1 ]\n",
    "NotComplete = df[df['course_complete'] == 0]"
   ]
  },
  {
   "cell_type": "code",
   "execution_count": 6,
   "metadata": {
    "collapsed": false
   },
   "outputs": [
    {
     "data": {
      "text/html": [
       "<div>\n",
       "<table border=\"1\" class=\"dataframe\">\n",
       "  <thead>\n",
       "    <tr style=\"text-align: right;\">\n",
       "      <th></th>\n",
       "      <th>course</th>\n",
       "      <th>student</th>\n",
       "      <th>course_complete</th>\n",
       "      <th>clickrate</th>\n",
       "      <th>avgpctvideowatched</th>\n",
       "      <th>rw</th>\n",
       "      <th>ff</th>\n",
       "    </tr>\n",
       "  </thead>\n",
       "  <tbody>\n",
       "    <tr>\n",
       "      <th>2</th>\n",
       "      <td>genomics</td>\n",
       "      <td>0015b68bd020c6caf6ab4cc0159ac2f0</td>\n",
       "      <td>1</td>\n",
       "      <td>0.015138</td>\n",
       "      <td>0.240743</td>\n",
       "      <td>0.000000</td>\n",
       "      <td>0.012065</td>\n",
       "    </tr>\n",
       "    <tr>\n",
       "      <th>9</th>\n",
       "      <td>genomics</td>\n",
       "      <td>006d949a7713901bc778028e605bacc5</td>\n",
       "      <td>1</td>\n",
       "      <td>0.013639</td>\n",
       "      <td>0.218629</td>\n",
       "      <td>0.000000</td>\n",
       "      <td>2.991179</td>\n",
       "    </tr>\n",
       "    <tr>\n",
       "      <th>13</th>\n",
       "      <td>genomics</td>\n",
       "      <td>00959c868c027ce70d18304e1f7b4d84</td>\n",
       "      <td>1</td>\n",
       "      <td>0.011750</td>\n",
       "      <td>0.016324</td>\n",
       "      <td>10.275888</td>\n",
       "      <td>0.000000</td>\n",
       "    </tr>\n",
       "    <tr>\n",
       "      <th>25</th>\n",
       "      <td>genomics</td>\n",
       "      <td>00ec9281233d1bcfa97f2129d010d895</td>\n",
       "      <td>1</td>\n",
       "      <td>0.016534</td>\n",
       "      <td>0.209335</td>\n",
       "      <td>0.000000</td>\n",
       "      <td>2.360829</td>\n",
       "    </tr>\n",
       "    <tr>\n",
       "      <th>26</th>\n",
       "      <td>genomics</td>\n",
       "      <td>00fca1dc037815e36b50459eef8c498d</td>\n",
       "      <td>1</td>\n",
       "      <td>0.009738</td>\n",
       "      <td>0.116762</td>\n",
       "      <td>101.751894</td>\n",
       "      <td>0.000000</td>\n",
       "    </tr>\n",
       "  </tbody>\n",
       "</table>\n",
       "</div>"
      ],
      "text/plain": [
       "      course                           student  course_complete  clickrate  \\\n",
       "2   genomics  0015b68bd020c6caf6ab4cc0159ac2f0                1   0.015138   \n",
       "9   genomics  006d949a7713901bc778028e605bacc5                1   0.013639   \n",
       "13  genomics  00959c868c027ce70d18304e1f7b4d84                1   0.011750   \n",
       "25  genomics  00ec9281233d1bcfa97f2129d010d895                1   0.016534   \n",
       "26  genomics  00fca1dc037815e36b50459eef8c498d                1   0.009738   \n",
       "\n",
       "    avgpctvideowatched          rw        ff  \n",
       "2             0.240743    0.000000  0.012065  \n",
       "9             0.218629    0.000000  2.991179  \n",
       "13            0.016324   10.275888  0.000000  \n",
       "25            0.209335    0.000000  2.360829  \n",
       "26            0.116762  101.751894  0.000000  "
      ]
     },
     "execution_count": 6,
     "metadata": {},
     "output_type": "execute_result"
    }
   ],
   "source": [
    "Completed.head()"
   ]
  },
  {
   "cell_type": "code",
   "execution_count": 7,
   "metadata": {
    "collapsed": false
   },
   "outputs": [
    {
     "data": {
      "text/plain": [
       "2392"
      ]
     },
     "execution_count": 7,
     "metadata": {},
     "output_type": "execute_result"
    }
   ],
   "source": [
    "len(Completed)"
   ]
  },
  {
   "cell_type": "code",
   "execution_count": 8,
   "metadata": {
    "collapsed": false
   },
   "outputs": [
    {
     "data": {
      "text/plain": [
       "17276"
      ]
     },
     "execution_count": 8,
     "metadata": {},
     "output_type": "execute_result"
    }
   ],
   "source": [
    "len(NotComplete)"
   ]
  },
  {
   "cell_type": "code",
   "execution_count": 15,
   "metadata": {
    "collapsed": false
   },
   "outputs": [
    {
     "name": "stdout",
     "output_type": "stream",
     "text": [
      "Population mean:  0.607769651553\n",
      "Mean rate of Complete:  1.64495621337\n",
      "Mean rate of NotComplete:  0.464162899072\n",
      "Differnce in means (Completed - NotComplete):  1.1807933143\n",
      "Equal population variance (t-statistic, two-tailed p-value):  (15.302434108547361, 1.4793844467299373e-52)\n",
      "Unequal population variance (t-statistic, two-tailed p-value):  (10.916686214685534, 3.5823761707804019e-27)\n"
     ]
    }
   ],
   "source": [
    "TestVariable = \"ff\"\n",
    "\n",
    "MeanDifference = np.mean(Completed[TestVariable])- np.mean(NotComplete[TestVariable])\n",
    "PopulationMean = np.mean(df[TestVariable])\n",
    "\n",
    "P1 = stats.ttest_ind(Completed[TestVariable].tolist(), NotComplete[TestVariable].tolist())\n",
    "P2 = stats.ttest_ind(Completed[TestVariable].tolist(), NotComplete[TestVariable].tolist(), equal_var=False)\n",
    "\n",
    "print \"Population mean: \", PopulationMean\n",
    "print \"Mean rate of Complete: \", np.mean(Completed[TestVariable])\n",
    "print \"Mean rate of NotComplete: \", np.mean(NotComplete[TestVariable])\n",
    "print \"Differnce in means (Completed - NotComplete): \", MeanDifference\n",
    "print \"Equal population variance (t-statistic, two-tailed p-value): \", P1\n",
    "print \"Unequal population variance (t-statistic, two-tailed p-value): \", P2\n",
    "#print 'ttest:', P1, ['Not Different', 'Different'][P1 < 0.05]"
   ]
  },
  {
   "cell_type": "code",
   "execution_count": 14,
   "metadata": {
    "collapsed": false
   },
   "outputs": [
    {
     "name": "stdout",
     "output_type": "stream",
     "text": [
      "Population mean:  1.34224091266\n",
      "Mean rate of Complete:  2.38266652718\n",
      "Mean rate of NotComplete:  1.19818568749\n",
      "Differnce in means (Completed - NotComplete):  1.18448083969\n",
      "Equal population variance (t-statistic, two-tailed p-value):  (1.3279410099045779, 0.18421300752955727)\n",
      "Unequal population variance (t-statistic, two-tailed p-value):  (2.3238826024905692, 0.020162513118256047)\n"
     ]
    }
   ],
   "source": [
    "TestVariable = \"rw\"\n",
    "\n",
    "MeanDifference = np.mean(Completed[TestVariable])- np.mean(NotComplete[TestVariable])\n",
    "PopulationMean = np.mean(df[TestVariable])\n",
    "\n",
    "P1 = stats.ttest_ind(Completed[TestVariable].tolist(), NotComplete[TestVariable].tolist())\n",
    "P2 = stats.ttest_ind(Completed[TestVariable].tolist(), NotComplete[TestVariable].tolist(), equal_var=False)\n",
    "\n",
    "print \"Population mean: \", PopulationMean\n",
    "print \"Mean rate of Complete: \", np.mean(Completed[TestVariable])\n",
    "print \"Mean rate of NotComplete: \", np.mean(NotComplete[TestVariable])\n",
    "print \"Differnce in means (Completed - NotComplete): \", MeanDifference\n",
    "print \"Equal population variance (t-statistic, two-tailed p-value): \", P1\n",
    "print \"Unequal population variance (t-statistic, two-tailed p-value): \", P2\n",
    "#print 'ttest:', P1, ['Not Different', 'Different'][P1 < 0.05]"
   ]
  },
  {
   "cell_type": "code",
   "execution_count": 13,
   "metadata": {
    "collapsed": false
   },
   "outputs": [
    {
     "name": "stdout",
     "output_type": "stream",
     "text": [
      "Population mean:  0.180099190655\n",
      "Mean rate of Complete:  0.016780890275\n",
      "Mean rate of NotComplete:  0.202711912032\n",
      "Differnce in means (Completed - NotComplete):  -0.185931021757\n",
      "Equal population variance (t-statistic, two-tailed p-value):  (-38.011913395661026, 3.7230381069195898e-305)\n",
      "Unequal population variance (t-statistic, two-tailed p-value):  (-101.92581942634403, 0.0)\n"
     ]
    }
   ],
   "source": [
    "TestVariable = \"clickrate\"\n",
    "\n",
    "MeanDifference = np.mean(Completed[TestVariable])- np.mean(NotComplete[TestVariable])\n",
    "PopulationMean = np.mean(df[TestVariable])\n",
    "\n",
    "P1 = stats.ttest_ind(Completed[TestVariable].tolist(), NotComplete[TestVariable].tolist())\n",
    "P2 = stats.ttest_ind(Completed[TestVariable].tolist(), NotComplete[TestVariable].tolist(), equal_var=False)\n",
    "\n",
    "print \"Population mean: \", PopulationMean\n",
    "print \"Mean rate of Complete: \", np.mean(Completed[TestVariable])\n",
    "print \"Mean rate of NotComplete: \", np.mean(NotComplete[TestVariable])\n",
    "print \"Differnce in means (Completed - NotComplete): \", MeanDifference\n",
    "print \"Equal population variance (t-statistic, two-tailed p-value): \", P1\n",
    "print \"Unequal population variance (t-statistic, two-tailed p-value): \", P2\n",
    "#print 'ttest:', P1, ['Not Different', 'Different'][P1 < 0.05]"
   ]
  },
  {
   "cell_type": "code",
   "execution_count": 12,
   "metadata": {
    "collapsed": false
   },
   "outputs": [
    {
     "name": "stdout",
     "output_type": "stream",
     "text": [
      "Population mean:  0.142266455302\n",
      "Mean rate of Complete:  0.180751859195\n",
      "Mean rate of NotComplete:  0.136937844159\n",
      "Differnce in means (Completed - NotComplete):  0.0438140150362\n",
      "Equal population variance (t-statistic, two-tailed p-value):  (15.099798850993963, 3.1475097187787351e-51)\n",
      "Unequal population variance (t-statistic, two-tailed p-value):  (18.28677884514892, 1.6735554938927209e-71)\n"
     ]
    }
   ],
   "source": [
    "TestVariable = \"avgpctvideowatched\"\n",
    "\n",
    "MeanDifference = np.mean(Completed[TestVariable])- np.mean(NotComplete[TestVariable])\n",
    "PopulationMean = np.mean(df[TestVariable])\n",
    "\n",
    "P1 = stats.ttest_ind(Completed[TestVariable].tolist(), NotComplete[TestVariable].tolist())\n",
    "P2 = stats.ttest_ind(Completed[TestVariable].tolist(), NotComplete[TestVariable].tolist(), equal_var=False)\n",
    "\n",
    "print \"Population mean: \", PopulationMean\n",
    "print \"Mean rate of Complete: \", np.mean(Completed[TestVariable])\n",
    "print \"Mean rate of NotComplete: \", np.mean(NotComplete[TestVariable])\n",
    "print \"Differnce in means (Completed - NotComplete): \", MeanDifference\n",
    "print \"Equal population variance (t-statistic, two-tailed p-value): \", P1\n",
    "print \"Unequal population variance (t-statistic, two-tailed p-value): \", P2\n",
    "#print 'ttest:', P1, ['Not Different', 'Different'][P1 < 0.05]"
   ]
  },
  {
   "cell_type": "code",
   "execution_count": null,
   "metadata": {
    "collapsed": true
   },
   "outputs": [],
   "source": [
    "#Calculates the T-test for the means of TWO INDEPENDENT samples of scores.\n",
    "#This is a two-sided test for the null hypothesis that 2 independent samples \n",
    "#have identical average (expected) values. This test assumes that the populations have identical variances by default.\n",
    "#Returns (The calculated t-statistic, The two-tailed p-value)\n",
    "#If we observe a large p-value, for example larger than 0.05 or 0.1,\n",
    "#then we cannot reject the null hypothesis of identical average scores. \n",
    "#If the p-value is smaller than the threshold, e.g. 1%, 5% or 10%,\n",
    "#then we reject the null hypothesis of equal averages.\n"
   ]
  },
  {
   "cell_type": "code",
   "execution_count": null,
   "metadata": {
    "collapsed": true
   },
   "outputs": [],
   "source": []
  }
 ],
 "metadata": {
  "kernelspec": {
   "display_name": "Python 2",
   "language": "python",
   "name": "python2"
  },
  "language_info": {
   "codemirror_mode": {
    "name": "ipython",
    "version": 2
   },
   "file_extension": ".py",
   "mimetype": "text/x-python",
   "name": "python",
   "nbconvert_exporter": "python",
   "pygments_lexer": "ipython2",
   "version": "2.7.10"
  }
 },
 "nbformat": 4,
 "nbformat_minor": 0
}
